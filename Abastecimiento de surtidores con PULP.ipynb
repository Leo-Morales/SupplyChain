{
 "cells": [
  {
   "cell_type": "markdown",
   "metadata": {},
   "source": [
    "EL PROBLEMA TRATA DE REABASTECER A SURTIDORES:\n",
    "\n",
    "-TENDREMOS 5 SURTIDORES LLAMADOS 1, 2, 3, 4 Y 5\n",
    "-DOS DIFERENTES TIPOS DE CISTERNAS, LAS CUALES SERAN NUESTROS NODOS DE SUMINISTRO, LLAMADAS A Y B\n",
    "-CADA SURTIDOR TIENE DIFERENTES DEMANDAS DE COMBUSTIBLE Y LLEVAR A CADA SURTIDOR TIENE DIFERENTE COSTO DEBIDO A LA DISTANCIA EN LA QUE SE ENCUENTRA"
   ]
  },
  {
   "cell_type": "markdown",
   "metadata": {},
   "source": [
    "Importar las funciones de PULP"
   ]
  },
  {
   "cell_type": "code",
   "execution_count": 353,
   "metadata": {},
   "outputs": [],
   "source": [
    "from pulp import *"
   ]
  },
  {
   "cell_type": "markdown",
   "metadata": {},
   "source": [
    "Crear una lista de todos los nodos de suministro"
   ]
  },
  {
   "cell_type": "code",
   "execution_count": 354,
   "metadata": {},
   "outputs": [],
   "source": [
    "Almacenes = [\"A\", \"B\"]"
   ]
  },
  {
   "cell_type": "markdown",
   "metadata": {},
   "source": [
    "Cantidad de unidades que distribuye cada nodo de suministro"
   ]
  },
  {
   "cell_type": "code",
   "execution_count": 355,
   "metadata": {},
   "outputs": [],
   "source": [
    "Nodo_suministro = {\"A\": 1000,\n",
    "                   \"B\": 4000}"
   ]
  },
  {
   "cell_type": "markdown",
   "metadata": {},
   "source": [
    "Crear lista de todos los nodos a los que se distribuirá"
   ]
  },
  {
   "cell_type": "code",
   "execution_count": 356,
   "metadata": {},
   "outputs": [],
   "source": [
    "Surtidores = [\"1\", \"2\", \"3\", \"4\", \"5\"]"
   ]
  },
  {
   "cell_type": "markdown",
   "metadata": {},
   "source": [
    "Cantidad que demanda cada nodo"
   ]
  },
  {
   "cell_type": "code",
   "execution_count": 357,
   "metadata": {},
   "outputs": [],
   "source": [
    "Demanda = {\"1\":500,\n",
    "          \"2\":900,\n",
    "          \"3\":1800,\n",
    "          \"4\":200,\n",
    "          \"5\":700,}"
   ]
  },
  {
   "cell_type": "markdown",
   "metadata": {},
   "source": [
    "Dinero que cuesta transportar cada litro de combustible en cada ruta de transporte"
   ]
  },
  {
   "cell_type": "code",
   "execution_count": 358,
   "metadata": {},
   "outputs": [],
   "source": [
    "Costos = [#Surtidores\n",
    "         #1 2 3 4 5\n",
    "         [2,4,5,2,1],#Almacen A   \n",
    "         [3,1,3,2,3] #Almacen B\n",
    "         ]\n",
    "\n",
    "Costos = makeDict([Almacenes,Surtidores],Costos,0)"
   ]
  },
  {
   "cell_type": "markdown",
   "metadata": {},
   "source": [
    "Crear una variable que contenga los datos del problema"
   ]
  },
  {
   "cell_type": "code",
   "execution_count": 359,
   "metadata": {},
   "outputs": [],
   "source": [
    "prob = LpProblem(\"Mejor ruta para distribuir y abastecer combustible\",LpMinimize)"
   ]
  },
  {
   "cell_type": "markdown",
   "metadata": {},
   "source": [
    "Crear una lista de todas las posibles rutas para el transporte"
   ]
  },
  {
   "cell_type": "code",
   "execution_count": 360,
   "metadata": {},
   "outputs": [],
   "source": [
    "Rutas = [(w,b) for w in Almacenes for b in Surtidores]"
   ]
  },
  {
   "cell_type": "markdown",
   "metadata": {},
   "source": [
    "Crear una variable que contenga las rutas"
   ]
  },
  {
   "cell_type": "code",
   "execution_count": 361,
   "metadata": {},
   "outputs": [],
   "source": [
    "aux = LpVariable.dicts(\"Ruta\",(Almacenes,Surtidores),0,None,LpInteger)"
   ]
  },
  {
   "cell_type": "markdown",
   "metadata": {},
   "source": [
    "Se añadira el calculo del costo total del transporte a la variable que contiene los datos del problema"
   ]
  },
  {
   "cell_type": "code",
   "execution_count": 362,
   "metadata": {},
   "outputs": [],
   "source": [
    "prob += lpSum([aux[w][b]*Costos[w][b] for (w,b) in Rutas])"
   ]
  },
  {
   "cell_type": "markdown",
   "metadata": {},
   "source": [
    "Los datos de las cantidades maximas que se pueden suministrar se agregan a la variable del problema para cada nodo de suministro"
   ]
  },
  {
   "cell_type": "code",
   "execution_count": 363,
   "metadata": {},
   "outputs": [],
   "source": [
    "for w in Almacenes:\n",
    "    prob += lpSum([aux[w][b] for b in Surtidores])<=Nodo_suministro[w]"
   ]
  },
  {
   "cell_type": "markdown",
   "metadata": {},
   "source": [
    "Configuración y simulación del problema"
   ]
  },
  {
   "cell_type": "code",
   "execution_count": 364,
   "metadata": {},
   "outputs": [
    {
     "name": "stdout",
     "output_type": "stream",
     "text": [
      "Estado: Optimal\n",
      "Ruta_A_1 = 300.0\n",
      "Ruta_A_2 = 0.0\n",
      "Ruta_A_3 = 0.0\n",
      "Ruta_A_4 = 0.0\n",
      "Ruta_A_5 = 700.0\n",
      "Ruta_B_1 = 200.0\n",
      "Ruta_B_2 = 900.0\n",
      "Ruta_B_3 = 1800.0\n",
      "Ruta_B_4 = 200.0\n",
      "Ruta_B_5 = 0.0\n",
      "Costo total del transporte =  8600.0\n"
     ]
    }
   ],
   "source": [
    "# Los datos de las cantidades maximas que se pueden suministrar se agregan a la variable del problema \n",
    "# para cada nodo de suministro\n",
    "restriccion_surtidor = {}\n",
    "for b in Surtidores:\n",
    "    restriccion = lpSum([aux[w][b] for w in Almacenes])>=Demanda[b]\n",
    "    prob += restriccion\n",
    "    restriccion_surtidor[b] = restriccion\n",
    "\n",
    "#Se tomara rangos de ejemplo\n",
    "for Demanda in range(500, 601, 200):\n",
    "    # Reoptimizar el problema aumentando la demanda en el surtidor '1'\n",
    "    restriccion_surtidor['1'].constant = - Demanda\n",
    "    prob.solve()\n",
    "    # Se imprimirá el estado de la solución y cada ruta con su valor óptimo\n",
    "    print(\"Estado:\", LpStatus[prob.status])\n",
    "    for v in prob.variables():\n",
    "        print(v.name, \"=\", v.varValue)\n",
    "    # Se imprimirá el costo total del transporte\n",
    "    print(\"Costo total del transporte = \", value(prob.objective))"
   ]
  }
 ],
 "metadata": {
  "kernelspec": {
   "display_name": "Python 3",
   "language": "python",
   "name": "python3"
  },
  "language_info": {
   "codemirror_mode": {
    "name": "ipython",
    "version": 3
   },
   "file_extension": ".py",
   "mimetype": "text/x-python",
   "name": "python",
   "nbconvert_exporter": "python",
   "pygments_lexer": "ipython3",
   "version": "3.7.3"
  }
 },
 "nbformat": 4,
 "nbformat_minor": 2
}
