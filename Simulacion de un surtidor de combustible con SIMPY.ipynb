{
 "cells": [
  {
   "cell_type": "markdown",
   "metadata": {},
   "source": [
    "SIMULACIÓN DE UNA ESTACION DE SERVICIO\n",
    "    \n",
    "- SE TRATA DE UNA ESTACIÓN DE SERVICIO QUE TIENE UN DISPENSER DE COMBUSTIBLE, CON UNA CAPACIDAD DE 200 LITROS DE COMBUSTIBLE. SE TOMO ESTE VALOR PARA VER COMO FUNCIONA EL ALGORITMO, EN LA REALIDAD EL TANQUE DE UN SURTIDOR ES MUCHO MÁS GRANDE.\n",
    "- LOS AUTOS LLEGAN CADA 150 SEGUNDOS.\n",
    "- LA CANTIDAD QUE CARGAN LOS AUTOS ES ALEATORIA, DEPENDE DE CUANTOS LITROS TENGAN EN SU TANQUE ACTUALMENTE, SE TOMÓ COMO 50 LITROS LA CAPACIDAD DEL TANQUE LLENO DE TODOS LOS AUTOS.\n",
    "- CUANDO EL TANQUE DE DISPENSER ESTE AL 15% DE SU CAPACIDAD O MENOS, SE LLAMARÁ AL CARRO CISTERNA PARA REABASTECER EL COMBUSTIBLE."
   ]
  },
  {
   "cell_type": "markdown",
   "metadata": {},
   "source": [
    "Importar librerias necesarias"
   ]
  },
  {
   "cell_type": "code",
   "execution_count": 59,
   "metadata": {},
   "outputs": [],
   "source": [
    "import itertools\n",
    "import random\n",
    "import simpy"
   ]
  },
  {
   "cell_type": "markdown",
   "metadata": {},
   "source": [
    "Definir variables"
   ]
  },
  {
   "cell_type": "code",
   "execution_count": 75,
   "metadata": {},
   "outputs": [],
   "source": [
    "NUM_ALEATORIO = 42\n",
    "CAP_TANQUE_ESTACION = 200    # Capacidad del tanque de la estación\n",
    "LLAMAR_REABASTECER = 15      # Capacidad del tanque a la que se llamará al carro cisterna para reabastecimiento (en %)\n",
    "TAM_TANQUE = 50              # Capacidad del tanque de combustible (en litros)\n",
    "NIVEL_TANQUE = [5, 25]       # Nivel min/max del tanque de combustible (en litros)\n",
    "VEL_LLENADO = 2              # Velocidad de llenado en litros/segundo\n",
    "T_LLEGA_CISTERNA = 300       # Segundos que tarda el carro cisterna en llegar\n",
    "T_LLEGAN_AUTOS = 150         # Crear un auto que llega a la estación cada 150 segundos\n",
    "T_SIMULACION = 10000         # Tiempo de simulacion en segundos"
   ]
  },
  {
   "cell_type": "markdown",
   "metadata": {},
   "source": [
    "Simulacion de la llegada de un auto a la estación de servicio, si no hay combustible en la \n",
    "estación, el auto esperará al carro cisterna a reabastecer el combustible"
   ]
  },
  {
   "cell_type": "code",
   "execution_count": 76,
   "metadata": {},
   "outputs": [],
   "source": [
    "def auto(nombre, env, estacion_gas, dispenser_combustible):\n",
    "\n",
    "    nivel_tanque_combustible = random.randint(*NIVEL_TANQUE)\n",
    "    print('%s llega al surtidor a los %.1f segundos' % (nombre, env.now))\n",
    "    with estacion_gas.request() as req:\n",
    "        start = env.now\n",
    "        yield req\n",
    "\n",
    "        # Calculo de los litros requeridos del auto\n",
    "        litros_requeridos = TAM_TANQUE - nivel_tanque_combustible\n",
    "        yield dispenser_combustible.get(litros_requeridos)\n",
    "\n",
    "        # Calculo del tiempo que tomará el llenado\n",
    "        yield env.timeout(litros_requeridos / VEL_LLENADO)\n",
    "\n",
    "        print('%s termina llenado de combustible en %.1f segundos.' % (nombre, env.now - start))"
   ]
  },
  {
   "cell_type": "markdown",
   "metadata": {},
   "source": [
    "Periodicamente se revisará el nivel del dispenser de combustible y se llamará al carro cisterna \n",
    "si el nivel de combustible está al 15% o menos de la capacidad total del tanque"
   ]
  },
  {
   "cell_type": "code",
   "execution_count": 77,
   "metadata": {},
   "outputs": [],
   "source": [
    "def control_estacion(env, dispenser_combustible):\n",
    "    while True:\n",
    "        if dispenser_combustible.level / dispenser_combustible.capacity * 100 < LLAMAR_REABASTECER:\n",
    "            # Si se llega a este punto, es por que se debe llamar a la cisterna para reabastecimiento\n",
    "            print('La estación llama a la cisterna a los %d segundos' % env.now)\n",
    "            # Se esperará 300 segundos a que llegue el carro cisterna y a que llene el tanque de la estación\n",
    "            yield env.process(cisterna(env, dispenser_combustible))\n",
    "\n",
    "        # Se revisará el nivel del tanque cada 10 segundos\n",
    "        yield env.timeout(20)  \n",
    "\n",
    "    "
   ]
  },
  {
   "cell_type": "markdown",
   "metadata": {},
   "source": [
    "La cisterna llega a la estación de servicio luego de un determinado tiempo y llena el tanque"
   ]
  },
  {
   "cell_type": "code",
   "execution_count": 78,
   "metadata": {},
   "outputs": [],
   "source": [
    "def cisterna(env, dispenser_combustible):\n",
    "    yield env.timeout(T_LLEGA_CISTERNA)\n",
    "    print('El carro cisterna llega a los %d segundos' % env.now)\n",
    "    ammount = dispenser_combustible.capacity - dispenser_combustible.level\n",
    "    print('El carro cisterna carga %.1f litros al tanque.' % ammount)\n",
    "    yield dispenser_combustible.put(ammount)\n",
    "\n",
    "\n"
   ]
  },
  {
   "cell_type": "markdown",
   "metadata": {},
   "source": [
    "Generación de un auto que llega a estación de servicio:"
   ]
  },
  {
   "cell_type": "code",
   "execution_count": 79,
   "metadata": {},
   "outputs": [],
   "source": [
    "def generar_auto(env, estacion_gas, dispenser_combustible):\n",
    "    for i in itertools.count():\n",
    "        yield env.timeout(T_LLEGAN_AUTOS)\n",
    "        env.process(auto('Auto %d' % i, env, estacion_gas, dispenser_combustible))\n"
   ]
  },
  {
   "cell_type": "markdown",
   "metadata": {},
   "source": [
    "Configuración y comienzo de la simulación"
   ]
  },
  {
   "cell_type": "code",
   "execution_count": 80,
   "metadata": {},
   "outputs": [
    {
     "name": "stdout",
     "output_type": "stream",
     "text": [
      "Simulación de Surtidor de combustible\n",
      "Auto 0 llega al surtidor a los 150.0 segundos\n",
      "Auto 0 termina llenado de combustible en 12.5 segundos.\n",
      "Auto 1 llega al surtidor a los 300.0 segundos\n",
      "Auto 1 termina llenado de combustible en 21.0 segundos.\n",
      "Auto 2 llega al surtidor a los 450.0 segundos\n",
      "Auto 2 termina llenado de combustible en 22.5 segundos.\n",
      "Auto 3 llega al surtidor a los 600.0 segundos\n",
      "Auto 3 termina llenado de combustible en 18.5 segundos.\n",
      "Auto 4 llega al surtidor a los 750.0 segundos\n",
      "La estación llama a la cisterna a los 760 segundos\n",
      "Auto 4 termina llenado de combustible en 19.0 segundos.\n",
      "Auto 5 llega al surtidor a los 900.0 segundos\n",
      "Auto 6 llega al surtidor a los 1050.0 segundos\n",
      "El carro cisterna llega a los 1060 segundos\n",
      "El carro cisterna carga 187.0 litros al tanque.\n",
      "Auto 5 termina llenado de combustible en 179.0 segundos.\n",
      "Auto 6 termina llenado de combustible en 30.5 segundos.\n",
      "Auto 7 llega al surtidor a los 1200.0 segundos\n",
      "Auto 7 termina llenado de combustible en 21.0 segundos.\n",
      "Auto 8 llega al surtidor a los 1350.0 segundos\n",
      "Auto 8 termina llenado de combustible en 14.0 segundos.\n",
      "Auto 9 llega al surtidor a los 1500.0 segundos\n",
      "La estación llama a la cisterna a los 1520 segundos\n",
      "Auto 9 termina llenado de combustible en 21.5 segundos.\n",
      "Auto 10 llega al surtidor a los 1650.0 segundos\n",
      "Auto 11 llega al surtidor a los 1800.0 segundos\n",
      "El carro cisterna llega a los 1820 segundos\n",
      "El carro cisterna carga 192.0 litros al tanque.\n",
      "Auto 10 termina llenado de combustible en 183.5 segundos.\n",
      "Auto 11 termina llenado de combustible en 36.0 segundos.\n",
      "Auto 12 llega al surtidor a los 1950.0 segundos\n",
      "Auto 12 termina llenado de combustible en 22.0 segundos.\n",
      "Auto 13 llega al surtidor a los 2100.0 segundos\n",
      "Auto 13 termina llenado de combustible en 22.5 segundos.\n",
      "Auto 14 llega al surtidor a los 2250.0 segundos\n",
      "La estación llama a la cisterna a los 2260 segundos\n",
      "Auto 14 termina llenado de combustible en 21.5 segundos.\n",
      "Auto 15 llega al surtidor a los 2400.0 segundos\n",
      "Auto 16 llega al surtidor a los 2550.0 segundos\n",
      "El carro cisterna llega a los 2560 segundos\n",
      "El carro cisterna carga 191.0 litros al tanque.\n",
      "Auto 16 termina llenado de combustible en 29.0 segundos.\n",
      "Auto 15 termina llenado de combustible en 179.5 segundos.\n",
      "Auto 17 llega al surtidor a los 2700.0 segundos\n",
      "Auto 17 termina llenado de combustible en 14.5 segundos.\n",
      "Auto 18 llega al surtidor a los 2850.0 segundos\n",
      "Auto 18 termina llenado de combustible en 13.0 segundos.\n",
      "Auto 19 llega al surtidor a los 3000.0 segundos\n",
      "La estación llama a la cisterna a los 3020 segundos\n",
      "Auto 19 termina llenado de combustible en 22.5 segundos.\n",
      "Auto 20 llega al surtidor a los 3150.0 segundos\n",
      "Auto 21 llega al surtidor a los 3300.0 segundos\n",
      "El carro cisterna llega a los 3320 segundos\n",
      "El carro cisterna carga 177.0 litros al tanque.\n",
      "Auto 20 termina llenado de combustible en 184.0 segundos.\n",
      "Auto 21 termina llenado de combustible en 39.5 segundos.\n",
      "Auto 22 llega al surtidor a los 3450.0 segundos\n",
      "Auto 22 termina llenado de combustible en 12.5 segundos.\n",
      "Auto 23 llega al surtidor a los 3600.0 segundos\n",
      "Auto 23 termina llenado de combustible en 14.0 segundos.\n",
      "Auto 24 llega al surtidor a los 3750.0 segundos\n",
      "Auto 24 termina llenado de combustible en 16.0 segundos.\n",
      "Auto 25 llega al surtidor a los 3900.0 segundos\n",
      "Auto 25 termina llenado de combustible en 19.0 segundos.\n",
      "La estación llama a la cisterna a los 3920 segundos\n",
      "Auto 26 llega al surtidor a los 4050.0 segundos\n",
      "Auto 27 llega al surtidor a los 4200.0 segundos\n",
      "El carro cisterna llega a los 4220 segundos\n",
      "El carro cisterna carga 190.0 litros al tanque.\n",
      "Auto 27 termina llenado de combustible en 33.5 segundos.\n",
      "Auto 26 termina llenado de combustible en 185.5 segundos.\n",
      "Auto 28 llega al surtidor a los 4350.0 segundos\n",
      "Auto 28 termina llenado de combustible en 18.5 segundos.\n",
      "Auto 29 llega al surtidor a los 4500.0 segundos\n",
      "Auto 29 termina llenado de combustible en 22.5 segundos.\n",
      "Auto 30 llega al surtidor a los 4650.0 segundos\n",
      "La estación llama a la cisterna a los 4660 segundos\n",
      "Auto 30 termina llenado de combustible en 20.0 segundos.\n",
      "Auto 31 llega al surtidor a los 4800.0 segundos\n",
      "Auto 32 llega al surtidor a los 4950.0 segundos\n",
      "El carro cisterna llega a los 4960 segundos\n",
      "El carro cisterna carga 180.0 litros al tanque.\n",
      "Auto 31 termina llenado de combustible en 176.0 segundos.\n",
      "Auto 32 termina llenado de combustible en 27.5 segundos.\n",
      "Auto 33 llega al surtidor a los 5100.0 segundos\n",
      "Auto 33 termina llenado de combustible en 18.5 segundos.\n",
      "Auto 34 llega al surtidor a los 5250.0 segundos\n",
      "Auto 34 termina llenado de combustible en 20.5 segundos.\n",
      "Auto 35 llega al surtidor a los 5400.0 segundos\n",
      "Auto 35 termina llenado de combustible en 19.5 segundos.\n",
      "La estación llama a la cisterna a los 5420 segundos\n",
      "Auto 36 llega al surtidor a los 5550.0 segundos\n",
      "Auto 37 llega al surtidor a los 5700.0 segundos\n",
      "El carro cisterna llega a los 5720 segundos\n",
      "El carro cisterna carga 184.0 litros al tanque.\n",
      "Auto 36 termina llenado de combustible en 187.5 segundos.\n",
      "Auto 37 termina llenado de combustible en 41.0 segundos.\n",
      "Auto 38 llega al surtidor a los 5850.0 segundos\n",
      "Auto 38 termina llenado de combustible en 21.5 segundos.\n",
      "Auto 39 llega al surtidor a los 6000.0 segundos\n",
      "Auto 39 termina llenado de combustible en 16.5 segundos.\n",
      "Auto 40 llega al surtidor a los 6150.0 segundos\n",
      "La estación llama a la cisterna a los 6160 segundos\n",
      "Auto 40 termina llenado de combustible en 21.0 segundos.\n",
      "Auto 41 llega al surtidor a los 6300.0 segundos\n",
      "Auto 42 llega al surtidor a los 6450.0 segundos\n",
      "El carro cisterna llega a los 6460 segundos\n",
      "El carro cisterna carga 195.0 litros al tanque.\n",
      "Auto 41 termina llenado de combustible en 177.0 segundos.\n",
      "Auto 42 termina llenado de combustible en 27.0 segundos.\n",
      "Auto 43 llega al surtidor a los 6600.0 segundos\n",
      "Auto 43 termina llenado de combustible en 13.0 segundos.\n",
      "Auto 44 llega al surtidor a los 6750.0 segundos\n",
      "Auto 44 termina llenado de combustible en 18.5 segundos.\n",
      "Auto 45 llega al surtidor a los 6900.0 segundos\n",
      "La estación llama a la cisterna a los 6920 segundos\n",
      "Auto 45 termina llenado de combustible en 22.0 segundos.\n",
      "Auto 46 llega al surtidor a los 7050.0 segundos\n",
      "Auto 47 llega al surtidor a los 7200.0 segundos\n",
      "El carro cisterna llega a los 7220 segundos\n",
      "El carro cisterna carga 175.0 litros al tanque.\n",
      "Auto 47 termina llenado de combustible en 34.0 segundos.\n",
      "Auto 46 termina llenado de combustible en 185.5 segundos.\n",
      "Auto 48 llega al surtidor a los 7350.0 segundos\n",
      "Auto 48 termina llenado de combustible en 21.0 segundos.\n",
      "Auto 49 llega al surtidor a los 7500.0 segundos\n",
      "Auto 49 termina llenado de combustible en 16.5 segundos.\n",
      "Auto 50 llega al surtidor a los 7650.0 segundos\n",
      "La estación llama a la cisterna a los 7660 segundos\n",
      "Auto 50 termina llenado de combustible en 21.5 segundos.\n",
      "Auto 51 llega al surtidor a los 7800.0 segundos\n",
      "Auto 52 llega al surtidor a los 7950.0 segundos\n",
      "El carro cisterna llega a los 7960 segundos\n",
      "El carro cisterna carga 177.0 litros al tanque.\n",
      "Auto 51 termina llenado de combustible en 174.0 segundos.\n",
      "Auto 52 termina llenado de combustible en 28.0 segundos.\n",
      "Auto 53 llega al surtidor a los 8100.0 segundos\n",
      "Auto 53 termina llenado de combustible en 12.5 segundos.\n",
      "Auto 54 llega al surtidor a los 8250.0 segundos\n",
      "Auto 54 termina llenado de combustible en 13.0 segundos.\n",
      "Auto 55 llega al surtidor a los 8400.0 segundos\n",
      "Auto 55 termina llenado de combustible en 17.0 segundos.\n",
      "Auto 56 llega al surtidor a los 8550.0 segundos\n",
      "La estación llama a la cisterna a los 8560 segundos\n",
      "Auto 56 termina llenado de combustible en 13.5 segundos.\n",
      "Auto 57 llega al surtidor a los 8700.0 segundos\n",
      "Auto 58 llega al surtidor a los 8850.0 segundos\n",
      "El carro cisterna llega a los 8860 segundos\n",
      "El carro cisterna carga 176.0 litros al tanque.\n",
      "Auto 57 termina llenado de combustible en 179.5 segundos.\n",
      "Auto 58 termina llenado de combustible en 31.5 segundos.\n",
      "Auto 59 llega al surtidor a los 9000.0 segundos\n",
      "Auto 59 termina llenado de combustible en 22.0 segundos.\n",
      "Auto 60 llega al surtidor a los 9150.0 segundos\n",
      "Auto 60 termina llenado de combustible en 19.0 segundos.\n",
      "Auto 61 llega al surtidor a los 9300.0 segundos\n",
      "Auto 61 termina llenado de combustible en 18.0 segundos.\n",
      "La estación llama a la cisterna a los 9320 segundos\n",
      "Auto 62 llega al surtidor a los 9450.0 segundos\n",
      "Auto 63 llega al surtidor a los 9600.0 segundos\n",
      "El carro cisterna llega a los 9620 segundos\n",
      "El carro cisterna carga 200.0 litros al tanque.\n",
      "Auto 63 termina llenado de combustible en 39.0 segundos.\n",
      "Auto 62 termina llenado de combustible en 191.5 segundos.\n",
      "Auto 64 llega al surtidor a los 9750.0 segundos\n",
      "Auto 64 termina llenado de combustible en 21.0 segundos.\n",
      "Auto 65 llega al surtidor a los 9900.0 segundos\n",
      "Auto 65 termina llenado de combustible en 16.5 segundos.\n"
     ]
    }
   ],
   "source": [
    "print('Simulación de Surtidor de combustible')\n",
    "random.seed(NUM_ALEATORIO)\n",
    "env = simpy.Environment()\n",
    "estacion_gas = simpy.Resource(env, 2)\n",
    "dispenser_combustible = simpy.Container(env, CAP_TANQUE_ESTACION, init=CAP_TANQUE_ESTACION)\n",
    "env.process(control_estacion(env, dispenser_combustible))\n",
    "env.process(generar_auto(env, estacion_gas, dispenser_combustible))\n",
    "\n",
    "# Tiempo que durará la simulación\n",
    "env.run(until=T_SIMULACION)"
   ]
  },
  {
   "cell_type": "code",
   "execution_count": null,
   "metadata": {},
   "outputs": [],
   "source": []
  }
 ],
 "metadata": {
  "kernelspec": {
   "display_name": "Python 3",
   "language": "python",
   "name": "python3"
  },
  "language_info": {
   "codemirror_mode": {
    "name": "ipython",
    "version": 3
   },
   "file_extension": ".py",
   "mimetype": "text/x-python",
   "name": "python",
   "nbconvert_exporter": "python",
   "pygments_lexer": "ipython3",
   "version": "3.7.3"
  }
 },
 "nbformat": 4,
 "nbformat_minor": 2
}
